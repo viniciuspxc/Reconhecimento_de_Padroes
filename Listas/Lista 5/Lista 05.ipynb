{
 "cells": [
  {
   "cell_type": "markdown",
   "metadata": {},
   "source": [
    "Reconhecimento de Padrões\n",
    "\n",
    "Lista 5: Métodos estatatísticos e KNN\n"
   ]
  },
  {
   "cell_type": "code",
   "execution_count": 213,
   "metadata": {},
   "outputs": [],
   "source": [
    "import pandas as pd\n",
    "import numpy as np\n",
    "import seaborn as sns\n",
    "import matplotlib.pyplot as plt\n",
    "from sklearn.model_selection import train_test_split\n",
    "from sklearn.model_selection import KFold\n",
    "from scipy import stats\n",
    "from sklearn.model_selection import GridSearchCV, KFold\n",
    "from itertools import product\n",
    "from sklearn.metrics import roc_curve, auc, precision_recall_curve, average_precision_score\n",
    "import matplotlib.pyplot as plt\n",
    "plt.style.use('dark_background')"
   ]
  },
  {
   "cell_type": "code",
   "execution_count": 166,
   "metadata": {},
   "outputs": [
    {
     "name": "stdout",
     "output_type": "stream",
     "text": [
      "(506, 18)\n"
     ]
    },
    {
     "data": {
      "text/html": [
       "<div>\n",
       "<style scoped>\n",
       "    .dataframe tbody tr th:only-of-type {\n",
       "        vertical-align: middle;\n",
       "    }\n",
       "\n",
       "    .dataframe tbody tr th {\n",
       "        vertical-align: top;\n",
       "    }\n",
       "\n",
       "    .dataframe thead th {\n",
       "        text-align: right;\n",
       "    }\n",
       "</style>\n",
       "<table border=\"1\" class=\"dataframe\">\n",
       "  <thead>\n",
       "    <tr style=\"text-align: right;\">\n",
       "      <th></th>\n",
       "      <th>x0</th>\n",
       "      <th>x1</th>\n",
       "      <th>x2</th>\n",
       "      <th>x3</th>\n",
       "      <th>x4</th>\n",
       "      <th>x5</th>\n",
       "      <th>x6</th>\n",
       "      <th>x7</th>\n",
       "      <th>x8</th>\n",
       "      <th>x9</th>\n",
       "      <th>x10</th>\n",
       "      <th>x11</th>\n",
       "      <th>x12</th>\n",
       "      <th>x13</th>\n",
       "      <th>x14</th>\n",
       "      <th>x15</th>\n",
       "      <th>x16</th>\n",
       "      <th>target</th>\n",
       "    </tr>\n",
       "  </thead>\n",
       "  <tbody>\n",
       "    <tr>\n",
       "      <th>0</th>\n",
       "      <td>2011.0</td>\n",
       "      <td>-70.955</td>\n",
       "      <td>42.2550</td>\n",
       "      <td>24.0</td>\n",
       "      <td>24.0</td>\n",
       "      <td>0.00632</td>\n",
       "      <td>18.0</td>\n",
       "      <td>2.31</td>\n",
       "      <td>0.0</td>\n",
       "      <td>0.538</td>\n",
       "      <td>6.575</td>\n",
       "      <td>65.2</td>\n",
       "      <td>4.0900</td>\n",
       "      <td>1.0</td>\n",
       "      <td>296.0</td>\n",
       "      <td>15.3</td>\n",
       "      <td>396.90</td>\n",
       "      <td>1.0</td>\n",
       "    </tr>\n",
       "    <tr>\n",
       "      <th>1</th>\n",
       "      <td>2021.0</td>\n",
       "      <td>-70.950</td>\n",
       "      <td>42.2875</td>\n",
       "      <td>21.6</td>\n",
       "      <td>21.6</td>\n",
       "      <td>0.02731</td>\n",
       "      <td>0.0</td>\n",
       "      <td>7.07</td>\n",
       "      <td>0.0</td>\n",
       "      <td>0.469</td>\n",
       "      <td>6.421</td>\n",
       "      <td>78.9</td>\n",
       "      <td>4.9671</td>\n",
       "      <td>2.0</td>\n",
       "      <td>242.0</td>\n",
       "      <td>17.8</td>\n",
       "      <td>396.90</td>\n",
       "      <td>1.0</td>\n",
       "    </tr>\n",
       "    <tr>\n",
       "      <th>2</th>\n",
       "      <td>2022.0</td>\n",
       "      <td>-70.936</td>\n",
       "      <td>42.2830</td>\n",
       "      <td>34.7</td>\n",
       "      <td>34.7</td>\n",
       "      <td>0.02729</td>\n",
       "      <td>0.0</td>\n",
       "      <td>7.07</td>\n",
       "      <td>0.0</td>\n",
       "      <td>0.469</td>\n",
       "      <td>7.185</td>\n",
       "      <td>61.1</td>\n",
       "      <td>4.9671</td>\n",
       "      <td>2.0</td>\n",
       "      <td>242.0</td>\n",
       "      <td>17.8</td>\n",
       "      <td>392.83</td>\n",
       "      <td>1.0</td>\n",
       "    </tr>\n",
       "    <tr>\n",
       "      <th>3</th>\n",
       "      <td>2031.0</td>\n",
       "      <td>-70.928</td>\n",
       "      <td>42.2930</td>\n",
       "      <td>33.4</td>\n",
       "      <td>33.4</td>\n",
       "      <td>0.03237</td>\n",
       "      <td>0.0</td>\n",
       "      <td>2.18</td>\n",
       "      <td>0.0</td>\n",
       "      <td>0.458</td>\n",
       "      <td>6.998</td>\n",
       "      <td>45.8</td>\n",
       "      <td>6.0622</td>\n",
       "      <td>3.0</td>\n",
       "      <td>222.0</td>\n",
       "      <td>18.7</td>\n",
       "      <td>394.63</td>\n",
       "      <td>1.0</td>\n",
       "    </tr>\n",
       "    <tr>\n",
       "      <th>4</th>\n",
       "      <td>2032.0</td>\n",
       "      <td>-70.922</td>\n",
       "      <td>42.2980</td>\n",
       "      <td>36.2</td>\n",
       "      <td>36.2</td>\n",
       "      <td>0.06905</td>\n",
       "      <td>0.0</td>\n",
       "      <td>2.18</td>\n",
       "      <td>0.0</td>\n",
       "      <td>0.458</td>\n",
       "      <td>7.147</td>\n",
       "      <td>54.2</td>\n",
       "      <td>6.0622</td>\n",
       "      <td>3.0</td>\n",
       "      <td>222.0</td>\n",
       "      <td>18.7</td>\n",
       "      <td>396.90</td>\n",
       "      <td>1.0</td>\n",
       "    </tr>\n",
       "  </tbody>\n",
       "</table>\n",
       "</div>"
      ],
      "text/plain": [
       "       x0      x1       x2    x3    x4       x5    x6    x7   x8     x9  \\\n",
       "0  2011.0 -70.955  42.2550  24.0  24.0  0.00632  18.0  2.31  0.0  0.538   \n",
       "1  2021.0 -70.950  42.2875  21.6  21.6  0.02731   0.0  7.07  0.0  0.469   \n",
       "2  2022.0 -70.936  42.2830  34.7  34.7  0.02729   0.0  7.07  0.0  0.469   \n",
       "3  2031.0 -70.928  42.2930  33.4  33.4  0.03237   0.0  2.18  0.0  0.458   \n",
       "4  2032.0 -70.922  42.2980  36.2  36.2  0.06905   0.0  2.18  0.0  0.458   \n",
       "\n",
       "     x10   x11     x12  x13    x14   x15     x16  target  \n",
       "0  6.575  65.2  4.0900  1.0  296.0  15.3  396.90     1.0  \n",
       "1  6.421  78.9  4.9671  2.0  242.0  17.8  396.90     1.0  \n",
       "2  7.185  61.1  4.9671  2.0  242.0  17.8  392.83     1.0  \n",
       "3  6.998  45.8  6.0622  3.0  222.0  18.7  394.63     1.0  \n",
       "4  7.147  54.2  6.0622  3.0  222.0  18.7  396.90     1.0  "
      ]
     },
     "execution_count": 166,
     "metadata": {},
     "output_type": "execute_result"
    }
   ],
   "source": [
    "bostonbin = pd.read_csv(\"content/bostonbin.csv\", header=None)\n",
    "print(bostonbin.shape)\n",
    "\n",
    "new_columns = {old_col: f'x{i}' for i, old_col in enumerate(\n",
    "    bostonbin.columns[:len(bostonbin.columns)])}\n",
    "new_columns[bostonbin.columns[-1]] = 'target'\n",
    "\n",
    "bostonbin = bostonbin.rename(columns=new_columns)\n",
    "\n",
    "bostonbin.head()"
   ]
  },
  {
   "cell_type": "code",
   "execution_count": 167,
   "metadata": {},
   "outputs": [],
   "source": [
    "class Metrics():\n",
    "    def __init__(self, y_true, y_pred):\n",
    "        self.y_true = y_true\n",
    "        self.y_pred = y_pred\n",
    "\n",
    "        TP = 0\n",
    "        FP = 0\n",
    "        FN = 0\n",
    "\n",
    "        for i in range(len(self.y_pred)):\n",
    "            if self.y_true.values[i] == 1 and self.y_pred[i] == 1:\n",
    "                TP += 1\n",
    "            elif self.y_true.values[i] == 0 and self.y_pred[i] == 1:\n",
    "                FP += 1\n",
    "            elif self.y_true.values[i] == 1 and self.y_pred[i] == 0:\n",
    "                FN += 1\n",
    "        TN = len(self.y_true) - TP - FP - FN\n",
    "        TP, FP, FN, TN\n",
    "\n",
    "        self.TP = TP\n",
    "        self.FP = FP\n",
    "        self.FN = FN\n",
    "        self.TN = TN\n",
    "\n",
    "        self.accuracy = (self.TP + self.TN) / \\\n",
    "            (self.TP + self.FP + self.FN + self.TN)\n",
    "        self.precision = self.TP / (self.TP + self.FP)\n",
    "        self.recall = self.TP / (self.TP + self.FN)\n",
    "        if (self.precision + self.recall) != 0:\n",
    "            self.f1_score = 2 * (self.precision * self.recall) / \\\n",
    "                (self.precision + self.recall)\n",
    "\n",
    "        self.confusion_matrix = np.array(\n",
    "            [[self.TN, self.FN], [self.FP, self.TP]])"
   ]
  },
  {
   "cell_type": "markdown",
   "metadata": {},
   "source": [
    "# Decision Tree"
   ]
  },
  {
   "cell_type": "markdown",
   "metadata": {},
   "source": [
    "## Model"
   ]
  },
  {
   "cell_type": "code",
   "execution_count": 168,
   "metadata": {},
   "outputs": [],
   "source": [
    "class Tree:\n",
    "    def __init__(self, column=None, limiar=None, gini=None, left=None, right=None, is_leaf=False, leaf_value=None):\n",
    "        # node\n",
    "        self.column = column\n",
    "        self.limiar = limiar\n",
    "        self.gini = gini\n",
    "        self.left = left\n",
    "        self.right = right\n",
    "\n",
    "        # leaf\n",
    "        self.is_leaf = is_leaf\n",
    "        self.leaf_value = leaf_value\n",
    "\n",
    "\n",
    "class DecisionTree:\n",
    "    def __init__(self, max_depth=3, min_leaf_samples=3, gini_stop=0, gini_step=1):\n",
    "        self.gini_stop = gini_stop\n",
    "        self.max_depth = max_depth\n",
    "        self.min_leaf_samples = min_leaf_samples\n",
    "        self.gini_step = gini_step\n",
    "        self.tree = None\n",
    "\n",
    "    def train(self, x, current_depth=0):\n",
    "        column, limiar, gini = self.gini_calculator(x)\n",
    "\n",
    "        x_left = x[x[column] > limiar]\n",
    "        x_right = x[x[column] <= limiar]\n",
    "\n",
    "        if (\n",
    "            gini > self.gini_stop\n",
    "            and current_depth < self.max_depth\n",
    "            and len(x_left) >= self.min_leaf_samples\n",
    "            and len(x_right) >= self.min_leaf_samples\n",
    "        ):\n",
    "            tree_left = self.train(x_left, current_depth=current_depth + 1)\n",
    "            tree_right = self.train(x_right, current_depth=current_depth + 1)\n",
    "            node = Tree(column=column, limiar=limiar,\n",
    "                        gini=gini, left=tree_left, right=tree_right)\n",
    "        else:\n",
    "            leaf_value = x['target'].mode()[0]\n",
    "            node = Tree(is_leaf=True, leaf_value=leaf_value)\n",
    "\n",
    "        if current_depth == 0:\n",
    "            self.tree = node\n",
    "        return node\n",
    "\n",
    "    def gini_calculator(self, x):\n",
    "        gini_df = pd.DataFrame()\n",
    "        for column in x.columns:\n",
    "            if column != 'target' and x[column].std() > 0:\n",
    "                colmax = x[column].max()\n",
    "                colmin = x[column].min()\n",
    "\n",
    "                num_steps = int((colmax - colmin) / self.gini_step) + 1\n",
    "                limiares = np.linspace(colmin, colmax, num=num_steps)\n",
    "\n",
    "                for limiar in limiares:\n",
    "                    x_left = x[x[column] > limiar]\n",
    "                    x_right = x[x[column] <= limiar]\n",
    "\n",
    "                    counts = np.unique(x_left.target, return_counts=True)[1]\n",
    "                    gini_left = 1 - np.sum((counts / len(x_left)) ** 2)\n",
    "\n",
    "                    counts = np.unique(x_right.target, return_counts=True)[1]\n",
    "                    gini_right = 1 - np.sum((counts / len(x_right)) ** 2)\n",
    "\n",
    "                    gini = (gini_left * len(x_left) +\n",
    "                            gini_right * len(x_right)) / len(x)\n",
    "\n",
    "                    gini_df = pd.concat([gini_df, pd.DataFrame([{\n",
    "                        'column': column, 'limiar': limiar, 'gini': gini\n",
    "                    }])], ignore_index=True)\n",
    "\n",
    "        best_row = gini_df.loc[gini_df['gini'].idxmin()]\n",
    "        return best_row['column'], best_row['limiar'], best_row['gini']\n",
    "\n",
    "    def predict(self, x):\n",
    "        return x.apply(lambda row: self.traverse_tree(self.tree, row), axis=1)\n",
    "\n",
    "    def traverse_tree(self, node, row):\n",
    "        if node.is_leaf:\n",
    "            return node.leaf_value\n",
    "        if row[node.column] > node.limiar:\n",
    "            return self.traverse_tree(node.left, row)\n",
    "        else:\n",
    "            return self.traverse_tree(node.right, row)"
   ]
  },
  {
   "cell_type": "markdown",
   "metadata": {},
   "source": [
    "## Training"
   ]
  },
  {
   "cell_type": "code",
   "execution_count": 169,
   "metadata": {},
   "outputs": [],
   "source": [
    "X_train, X_test = train_test_split(bostonbin, test_size=0.3, random_state=101)\n",
    "\n",
    "X_train = X_train.reset_index(drop=True)\n",
    "X_test = X_test.reset_index(drop=True)"
   ]
  },
  {
   "cell_type": "code",
   "execution_count": 170,
   "metadata": {},
   "outputs": [],
   "source": [
    "decision_tree = DecisionTree(\n",
    "    max_depth=2, min_leaf_samples=10, gini_stop=0.3,  gini_step=1)"
   ]
  },
  {
   "cell_type": "code",
   "execution_count": 171,
   "metadata": {},
   "outputs": [],
   "source": [
    "tree = decision_tree.train(X_train)"
   ]
  },
  {
   "cell_type": "code",
   "execution_count": 172,
   "metadata": {},
   "outputs": [
    {
     "data": {
      "text/plain": [
       "np.float64(1.0)"
      ]
     },
     "execution_count": 172,
     "metadata": {},
     "output_type": "execute_result"
    }
   ],
   "source": [
    "tree.leaf_value"
   ]
  },
  {
   "cell_type": "code",
   "execution_count": 173,
   "metadata": {},
   "outputs": [
    {
     "data": {
      "text/plain": [
       "0      1.0\n",
       "1      1.0\n",
       "2      1.0\n",
       "3      1.0\n",
       "4      1.0\n",
       "      ... \n",
       "147    1.0\n",
       "148    1.0\n",
       "149    1.0\n",
       "150    1.0\n",
       "151    1.0\n",
       "Length: 152, dtype: float64"
      ]
     },
     "execution_count": 173,
     "metadata": {},
     "output_type": "execute_result"
    }
   ],
   "source": [
    "y_pred = decision_tree.predict(X_test)\n",
    "y_pred"
   ]
  },
  {
   "cell_type": "code",
   "execution_count": 174,
   "metadata": {},
   "outputs": [
    {
     "name": "stdout",
     "output_type": "stream",
     "text": [
      "0.6578947368421053\n",
      "0.6578947368421053\n",
      "1.0\n",
      "0.7936507936507937\n"
     ]
    }
   ],
   "source": [
    "metric = Metrics(X_test.target, y_pred)\n",
    "\n",
    "print(metric.accuracy)\n",
    "print(metric.precision)\n",
    "print(metric.recall)\n",
    "print(metric.f1_score)"
   ]
  },
  {
   "cell_type": "code",
   "execution_count": 208,
   "metadata": {},
   "outputs": [],
   "source": [
    "def plot_roc_pr_curves(y_true, y_pred, title_prefix=\"Model\"):\n",
    "    \"\"\"\n",
    "    Function to plot ROC and Precision-Recall curves for a given model.\n",
    "    \"\"\"\n",
    "    # ROC Curve\n",
    "    fpr, tpr, _ = roc_curve(y_true, y_pred)\n",
    "    roc_auc = auc(fpr, tpr)\n",
    "\n",
    "    plt.figure(figsize=(12, 6))\n",
    "    plt.subplot(1, 2, 1)\n",
    "    plt.plot(fpr, tpr, color=\"darkorange\", lw=2, label=f\"AUC = {roc_auc:.2f}\")\n",
    "    plt.plot([0, 1], [0, 1], color=\"navy\", lw=1, linestyle=\"--\")\n",
    "    plt.xlabel(\"False Positive Rate\")\n",
    "    plt.ylabel(\"True Positive Rate\")\n",
    "    plt.title(f\"{title_prefix} ROC Curve\")\n",
    "    plt.legend(loc=\"lower right\")\n",
    "\n",
    "    # Precision-Recall Curve\n",
    "    precision, recall, _ = precision_recall_curve(y_true, y_pred)\n",
    "    avg_precision = average_precision_score(y_true, y_pred)\n",
    "\n",
    "    plt.subplot(1, 2, 2)\n",
    "    plt.plot(recall, precision, color=\"blue\", lw=2, label=f\"Avg Precision = {avg_precision:.2f}\")\n",
    "    plt.xlabel(\"Recall\")\n",
    "    plt.ylabel(\"Precision\")\n",
    "    plt.title(f\"{title_prefix} Precision-Recall Curve\")\n",
    "    plt.legend(loc=\"lower left\")\n",
    "\n",
    "    plt.tight_layout()\n",
    "    plt.show()"
   ]
  },
  {
   "cell_type": "code",
   "execution_count": 209,
   "metadata": {},
   "outputs": [],
   "source": [
    "def grid_search_decision_tree(X, param_grid, kfold_splits=2, plot=True):\n",
    "    best_params = None\n",
    "    best_score = -np.inf\n",
    "    results = []\n",
    "    \n",
    "    param_combinations = list(product(*param_grid.values()))  \n",
    "    kf = KFold(n_splits=kfold_splits, shuffle=True, random_state=42)\n",
    "    \n",
    "    print('Combinations=', len(param_combinations), 'kfolds=', kfold_splits)\n",
    "    comb_count = 0\n",
    "    \n",
    "    for params in param_combinations:\n",
    "        comb_count += 1\n",
    "        param_dict = dict(zip(param_grid.keys(), params))\n",
    "        all_y_true = []\n",
    "        all_y_pred = []\n",
    "        scores = []\n",
    "        \n",
    "        kfold_count = 0\n",
    "        for train_idx, val_idx in kf.split(X):\n",
    "            kfold_count += 1\n",
    "            train_data = X.iloc[train_idx].reset_index(drop=True)\n",
    "            val_data = X.iloc[val_idx].reset_index(drop=True)\n",
    "            \n",
    "            model = DecisionTree(\n",
    "                max_depth=param_dict['max_depth'],\n",
    "                min_leaf_samples=param_dict['min_leaf_samples'],\n",
    "                gini_stop=param_dict['gini_stop'],\n",
    "                gini_step=param_dict['gini_step']\n",
    "            )\n",
    "            model.train(train_data)\n",
    "            \n",
    "            y_pred = model.predict(val_data)\n",
    "            \n",
    "            metric = Metrics(val_data['target'], y_pred)\n",
    "            scores.append(metric.f1_score)\n",
    "            \n",
    "            all_y_true.extend(val_data['target'])\n",
    "            all_y_pred.extend(y_pred)\n",
    "            \n",
    "            print('comb:', comb_count, 'k:', kfold_count)\n",
    "        \n",
    "        mean_score = np.mean(scores)\n",
    "        results.append((param_dict, mean_score, all_y_true, all_y_pred))\n",
    "        \n",
    "        if mean_score > best_score:\n",
    "            best_score = mean_score\n",
    "            best_params = param_dict\n",
    "    \n",
    "    return best_params, best_score, results"
   ]
  },
  {
   "cell_type": "code",
   "execution_count": null,
   "metadata": {},
   "outputs": [
    {
     "name": "stdout",
     "output_type": "stream",
     "text": [
      "Combinations= 1 kfolds= 2\n",
      "comb: 1 k: 1\n",
      "comb: 1 k: 2\n",
      "Best Parameters: {'max_depth': 2, 'min_leaf_samples': 1, 'gini_stop': 0, 'gini_step': 2}\n",
      "Best Score: 0.8394276253547777\n"
     ]
    }
   ],
   "source": [
    "param_grid = {\n",
    "    'max_depth': [2],\n",
    "    'min_leaf_samples': [1],\n",
    "    'gini_stop': [0],\n",
    "    'gini_step': [2]\n",
    "}\n",
    "\n",
    "best_params, best_score, results = grid_search_decision_tree(bostonbin, param_grid, kfold_splits=2)"
   ]
  },
  {
   "cell_type": "code",
   "execution_count": 212,
   "metadata": {},
   "outputs": [
    {
     "name": "stdout",
     "output_type": "stream",
     "text": [
      "Best Parameters: {'max_depth': 2, 'min_leaf_samples': 1, 'gini_stop': 0, 'gini_step': 2}\n",
      "Best Score: 0.8394276253547777\n"
     ]
    }
   ],
   "source": [
    "print(\"Best Parameters:\", best_params)\n",
    "print(\"Best Score:\", best_score)"
   ]
  },
  {
   "cell_type": "code",
   "execution_count": null,
   "metadata": {},
   "outputs": [
    {
     "data": {
      "image/png": "[encoded data removed]",
      "text/plain": [
       "<Figure size 1200x600 with 2 Axes>"
      ]
     },
     "metadata": {},
     "output_type": "display_data"
    }
   ],
   "source": [
    "best_model_results = max(results, key=lambda x: x[1]) \n",
    "plot_roc_pr_curves(best_model_results[2], best_model_results[3], title_prefix=\"Best Model\")"
   ]
  }
 ],
 "metadata": {
  "kernelspec": {
   "display_name": "env",
   "language": "python",
   "name": "python3"
  },
  "language_info": {
   "codemirror_mode": {
    "name": "ipython",
    "version": 3
   },
   "file_extension": ".py",
   "mimetype": "text/x-python",
   "name": "python",
   "nbconvert_exporter": "python",
   "pygments_lexer": "ipython3",
   "version": "3.12.4"
  }
 },
 "nbformat": 4,
 "nbformat_minor": 2
}
