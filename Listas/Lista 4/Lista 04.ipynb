{
 "cells": [
  {
   "cell_type": "markdown",
   "metadata": {},
   "source": [
    "Reconhecimento de Padrões\n",
    "\n",
    "Lista 4: Métodos estatatísticos e KNN\n"
   ]
  },
  {
   "cell_type": "markdown",
   "metadata": {},
   "source": [
    "# Imports"
   ]
  },
  {
   "cell_type": "code",
   "execution_count": 79,
   "metadata": {},
   "outputs": [],
   "source": [
    "import pandas as pd\n",
    "import numpy as np\n",
    "import seaborn as sns\n",
    "import matplotlib.pyplot as plt\n",
    "from sklearn.model_selection import train_test_split\n",
    "from sklearn.model_selection import KFold\n",
    "from scipy import stats"
   ]
  },
  {
   "cell_type": "code",
   "execution_count": 80,
   "metadata": {},
   "outputs": [
    {
     "name": "stdout",
     "output_type": "stream",
     "text": [
      "(569, 31)\n"
     ]
    },
    {
     "data": {
      "text/html": [
       "<div>\n",
       "<style scoped>\n",
       "    .dataframe tbody tr th:only-of-type {\n",
       "        vertical-align: middle;\n",
       "    }\n",
       "\n",
       "    .dataframe tbody tr th {\n",
       "        vertical-align: top;\n",
       "    }\n",
       "\n",
       "    .dataframe thead th {\n",
       "        text-align: right;\n",
       "    }\n",
       "</style>\n",
       "<table border=\"1\" class=\"dataframe\">\n",
       "  <thead>\n",
       "    <tr style=\"text-align: right;\">\n",
       "      <th></th>\n",
       "      <th>0</th>\n",
       "      <th>1</th>\n",
       "      <th>2</th>\n",
       "      <th>3</th>\n",
       "      <th>4</th>\n",
       "      <th>5</th>\n",
       "      <th>6</th>\n",
       "      <th>7</th>\n",
       "      <th>8</th>\n",
       "      <th>9</th>\n",
       "      <th>...</th>\n",
       "      <th>21</th>\n",
       "      <th>22</th>\n",
       "      <th>23</th>\n",
       "      <th>24</th>\n",
       "      <th>25</th>\n",
       "      <th>26</th>\n",
       "      <th>27</th>\n",
       "      <th>28</th>\n",
       "      <th>29</th>\n",
       "      <th>30</th>\n",
       "    </tr>\n",
       "  </thead>\n",
       "  <tbody>\n",
       "    <tr>\n",
       "      <th>0</th>\n",
       "      <td>17.99</td>\n",
       "      <td>10.38</td>\n",
       "      <td>122.80</td>\n",
       "      <td>1001.0</td>\n",
       "      <td>0.11840</td>\n",
       "      <td>0.27760</td>\n",
       "      <td>0.3001</td>\n",
       "      <td>0.14710</td>\n",
       "      <td>0.2419</td>\n",
       "      <td>0.07871</td>\n",
       "      <td>...</td>\n",
       "      <td>17.33</td>\n",
       "      <td>184.60</td>\n",
       "      <td>2019.0</td>\n",
       "      <td>0.1622</td>\n",
       "      <td>0.6656</td>\n",
       "      <td>0.7119</td>\n",
       "      <td>0.2654</td>\n",
       "      <td>0.4601</td>\n",
       "      <td>0.11890</td>\n",
       "      <td>0.0</td>\n",
       "    </tr>\n",
       "    <tr>\n",
       "      <th>1</th>\n",
       "      <td>20.57</td>\n",
       "      <td>17.77</td>\n",
       "      <td>132.90</td>\n",
       "      <td>1326.0</td>\n",
       "      <td>0.08474</td>\n",
       "      <td>0.07864</td>\n",
       "      <td>0.0869</td>\n",
       "      <td>0.07017</td>\n",
       "      <td>0.1812</td>\n",
       "      <td>0.05667</td>\n",
       "      <td>...</td>\n",
       "      <td>23.41</td>\n",
       "      <td>158.80</td>\n",
       "      <td>1956.0</td>\n",
       "      <td>0.1238</td>\n",
       "      <td>0.1866</td>\n",
       "      <td>0.2416</td>\n",
       "      <td>0.1860</td>\n",
       "      <td>0.2750</td>\n",
       "      <td>0.08902</td>\n",
       "      <td>0.0</td>\n",
       "    </tr>\n",
       "    <tr>\n",
       "      <th>2</th>\n",
       "      <td>19.69</td>\n",
       "      <td>21.25</td>\n",
       "      <td>130.00</td>\n",
       "      <td>1203.0</td>\n",
       "      <td>0.10960</td>\n",
       "      <td>0.15990</td>\n",
       "      <td>0.1974</td>\n",
       "      <td>0.12790</td>\n",
       "      <td>0.2069</td>\n",
       "      <td>0.05999</td>\n",
       "      <td>...</td>\n",
       "      <td>25.53</td>\n",
       "      <td>152.50</td>\n",
       "      <td>1709.0</td>\n",
       "      <td>0.1444</td>\n",
       "      <td>0.4245</td>\n",
       "      <td>0.4504</td>\n",
       "      <td>0.2430</td>\n",
       "      <td>0.3613</td>\n",
       "      <td>0.08758</td>\n",
       "      <td>0.0</td>\n",
       "    </tr>\n",
       "    <tr>\n",
       "      <th>3</th>\n",
       "      <td>11.42</td>\n",
       "      <td>20.38</td>\n",
       "      <td>77.58</td>\n",
       "      <td>386.1</td>\n",
       "      <td>0.14250</td>\n",
       "      <td>0.28390</td>\n",
       "      <td>0.2414</td>\n",
       "      <td>0.10520</td>\n",
       "      <td>0.2597</td>\n",
       "      <td>0.09744</td>\n",
       "      <td>...</td>\n",
       "      <td>26.50</td>\n",
       "      <td>98.87</td>\n",
       "      <td>567.7</td>\n",
       "      <td>0.2098</td>\n",
       "      <td>0.8663</td>\n",
       "      <td>0.6869</td>\n",
       "      <td>0.2575</td>\n",
       "      <td>0.6638</td>\n",
       "      <td>0.17300</td>\n",
       "      <td>0.0</td>\n",
       "    </tr>\n",
       "    <tr>\n",
       "      <th>4</th>\n",
       "      <td>20.29</td>\n",
       "      <td>14.34</td>\n",
       "      <td>135.10</td>\n",
       "      <td>1297.0</td>\n",
       "      <td>0.10030</td>\n",
       "      <td>0.13280</td>\n",
       "      <td>0.1980</td>\n",
       "      <td>0.10430</td>\n",
       "      <td>0.1809</td>\n",
       "      <td>0.05883</td>\n",
       "      <td>...</td>\n",
       "      <td>16.67</td>\n",
       "      <td>152.20</td>\n",
       "      <td>1575.0</td>\n",
       "      <td>0.1374</td>\n",
       "      <td>0.2050</td>\n",
       "      <td>0.4000</td>\n",
       "      <td>0.1625</td>\n",
       "      <td>0.2364</td>\n",
       "      <td>0.07678</td>\n",
       "      <td>0.0</td>\n",
       "    </tr>\n",
       "  </tbody>\n",
       "</table>\n",
       "<p>5 rows × 31 columns</p>\n",
       "</div>"
      ],
      "text/plain": [
       "      0      1       2       3        4        5       6        7       8   \\\n",
       "0  17.99  10.38  122.80  1001.0  0.11840  0.27760  0.3001  0.14710  0.2419   \n",
       "1  20.57  17.77  132.90  1326.0  0.08474  0.07864  0.0869  0.07017  0.1812   \n",
       "2  19.69  21.25  130.00  1203.0  0.10960  0.15990  0.1974  0.12790  0.2069   \n",
       "3  11.42  20.38   77.58   386.1  0.14250  0.28390  0.2414  0.10520  0.2597   \n",
       "4  20.29  14.34  135.10  1297.0  0.10030  0.13280  0.1980  0.10430  0.1809   \n",
       "\n",
       "        9   ...     21      22      23      24      25      26      27  \\\n",
       "0  0.07871  ...  17.33  184.60  2019.0  0.1622  0.6656  0.7119  0.2654   \n",
       "1  0.05667  ...  23.41  158.80  1956.0  0.1238  0.1866  0.2416  0.1860   \n",
       "2  0.05999  ...  25.53  152.50  1709.0  0.1444  0.4245  0.4504  0.2430   \n",
       "3  0.09744  ...  26.50   98.87   567.7  0.2098  0.8663  0.6869  0.2575   \n",
       "4  0.05883  ...  16.67  152.20  1575.0  0.1374  0.2050  0.4000  0.1625   \n",
       "\n",
       "       28       29   30  \n",
       "0  0.4601  0.11890  0.0  \n",
       "1  0.2750  0.08902  0.0  \n",
       "2  0.3613  0.08758  0.0  \n",
       "3  0.6638  0.17300  0.0  \n",
       "4  0.2364  0.07678  0.0  \n",
       "\n",
       "[5 rows x 31 columns]"
      ]
     },
     "execution_count": 80,
     "metadata": {},
     "output_type": "execute_result"
    }
   ],
   "source": [
    "breast = pd.read_csv(\"content/breast.csv\", header=None)\n",
    "print(breast.shape)\n",
    "breast.head()"
   ]
  },
  {
   "cell_type": "markdown",
   "metadata": {},
   "source": [
    "# Models"
   ]
  },
  {
   "cell_type": "code",
   "execution_count": 81,
   "metadata": {},
   "outputs": [],
   "source": [
    "class Metrics():\n",
    "    def __init__(self, y_true, y_pred):\n",
    "        self.y_true = y_true\n",
    "        self.y_pred = y_pred\n",
    "\n",
    "        TP = 0\n",
    "        FP = 0\n",
    "        FN = 0\n",
    "\n",
    "        for i in range(len(self.y_pred)):\n",
    "            if self.y_true.values[i] == 1 and self.y_pred[i] == 1:\n",
    "                TP += 1\n",
    "            elif self.y_true.values[i] == 0 and self.y_pred[i] == 1:\n",
    "                FP += 1\n",
    "            elif self.y_true.values[i] == 1 and self.y_pred[i] == 0:\n",
    "                FN += 1\n",
    "        TN = len(self.y_true) - TP - FP - FN\n",
    "        TP, FP, FN, TN\n",
    "\n",
    "        self.TP = TP\n",
    "        self.FP = FP\n",
    "        self.FN = FN\n",
    "        self.TN = TN\n",
    "\n",
    "        self.accuracy = (self.TP + self.TN) / \\\n",
    "            (self.TP + self.FP + self.FN + self.TN)\n",
    "        self.precision = self.TP / (self.TP + self.FP)\n",
    "        self.recall = self.TP / (self.TP + self.FN)\n",
    "        if (self.precision + self.recall) != 0:\n",
    "            self.f1_score = 2 * (self.precision * self.recall) / (self.precision + self.recall)\n",
    "\n",
    "        self.confusion_matrix = np.array(\n",
    "            [[self.TN, self.FN], [self.FP, self.TP]])"
   ]
  },
  {
   "cell_type": "markdown",
   "metadata": {},
   "source": [
    "# KFolds"
   ]
  },
  {
   "cell_type": "code",
   "execution_count": 82,
   "metadata": {},
   "outputs": [],
   "source": [
    "X_breast = breast.iloc[:, 0:-1]\n",
    "y_breast = breast.iloc[:, -1]\n",
    "y_breast = y_breast.astype('int64')"
   ]
  },
  {
   "cell_type": "markdown",
   "metadata": {},
   "source": [
    "## Gaussian Discriminant Analysis (GDA)"
   ]
  },
  {
   "cell_type": "code",
   "execution_count": 83,
   "metadata": {},
   "outputs": [],
   "source": [
    "class GDA():\n",
    "  def __init__(self):\n",
    "    self.log_proba = np.log(0.5)\n",
    "    self.cov_matrix_k = []\n",
    "    self.mean_k = []\n",
    "    self.log_det_cov = []\n",
    "\n",
    "  def fit(self, X, y):\n",
    "    self.labels = np.sort(np.unique(y))\n",
    "    for label in self.labels:\n",
    "      X_k = X[y == label]\n",
    "      self.cov_matrix_k.append(np.cov(X_k, rowvar=False))\n",
    "      self.mean_k.append(np.mean(X_k, axis=0))\n",
    "      self.log_det_cov.append(np.log(np.linalg.det(self.cov_matrix_k[label])))\n",
    "\n",
    "  def predict(self, X):\n",
    "    y_labels_proba = []\n",
    "    for label in self.labels:\n",
    "      central = (X - self.mean_k[label])\n",
    "      inv_cov = np.linalg.inv(self.cov_matrix_k[label])\n",
    "\n",
    "      y_labels_proba.append(self.log_proba - 1/2 * (self.log_det_cov[label] + central.T @ inv_cov @ central))\n",
    "\n",
    "    return self.labels[np.argmax(y_labels_proba)]"
   ]
  },
  {
   "cell_type": "code",
   "execution_count": 84,
   "metadata": {},
   "outputs": [
    {
     "name": "stdout",
     "output_type": "stream",
     "text": [
      "\n",
      "accuracy: 0.9332706766917293 \n",
      "STD: 0.09307717395692183\n",
      "\n",
      "precision: 0.9828895461693451 \n",
      "STD: 0.018732872602797292\n",
      "\n",
      "recall: 0.9069713681451486 \n",
      "STD: 0.16235899982087462\n",
      "\n",
      "f1_score: 0.9336549410259017 \n",
      "STD: 0.10110229884774498\n"
     ]
    }
   ],
   "source": [
    "gda = GDA()\n",
    "\n",
    "kf = KFold(n_splits=10, shuffle=True, random_state=101)\n",
    "kf.get_n_splits(X_breast)\n",
    "\n",
    "accuracy = []\n",
    "precision = []\n",
    "recall = []\n",
    "f1_score = []\n",
    "sum_matrix = [[0,0],[0,0]]\n",
    "for i, (train_index, test_index) in enumerate(kf.split(X_breast)):\n",
    "    y_pred = []\n",
    "    X_train_fold, X_test_fold = X_breast.iloc[train_index], X_breast.iloc[test_index]\n",
    "    y_train_fold, y_test_fold = y_breast.iloc[train_index], y_breast.iloc[test_index]\n",
    "\n",
    "    x_max = X_train_fold.max()\n",
    "    x_min = X_train_fold.min()\n",
    "    X_train_norm = (X_train_fold - x_min) / (x_max - x_min)\n",
    "    X_test_norm = (X_test_fold - x_min) / (x_max - x_min)\n",
    "    gda.fit(X_train_norm, y_train_fold.values)\n",
    "    for x in X_test_norm.values:\n",
    "        y_pred.append(gda.predict(x))\n",
    "    metric = Metrics(y_test_fold, y_pred)\n",
    "    \n",
    "\n",
    "    accuracy.append(metric.accuracy)\n",
    "    precision.append(metric.precision)\n",
    "    recall.append(metric.recall)\n",
    "    f1_score.append(metric.f1_score)\n",
    "    sum_matrix += metric.confusion_matrix\n",
    "\n",
    "print(\"\\naccuracy:\", np.mean(accuracy), \"\\nSTD:\", np.std(accuracy))\n",
    "print(\"\\nprecision:\", np.mean(precision), \"\\nSTD:\", np.std(precision))\n",
    "print(\"\\nrecall:\", np.mean(recall), \"\\nSTD:\", np.std(recall))\n",
    "print(\"\\nf1_score:\", np.mean(f1_score), \"\\nSTD:\", np.std(f1_score))"
   ]
  },
  {
   "cell_type": "code",
   "execution_count": 85,
   "metadata": {},
   "outputs": [
    {
     "data": {
      "image/png": "[encoded data removed]",
      "text/plain": [
       "<Figure size 640x480 with 2 Axes>"
      ]
     },
     "metadata": {},
     "output_type": "display_data"
    }
   ],
   "source": [
    "sns.heatmap(sum_matrix, annot=True, cmap='Blues', fmt='d',\n",
    "            xticklabels=['0', '1'], yticklabels=['0', '1'])\n",
    "plt.xlabel('y_pred')\n",
    "plt.ylabel('y_test')\n",
    "plt.title('Confusion Matrix')\n",
    "plt.show()"
   ]
  },
  {
   "cell_type": "markdown",
   "metadata": {},
   "source": [
    "## Gaussian Naive Bayes (GNB)"
   ]
  },
  {
   "cell_type": "code",
   "execution_count": 86,
   "metadata": {},
   "outputs": [],
   "source": [
    "class GNB():\n",
    "  def __init__(self):\n",
    "    self.log_proba = np.log(0.5)\n",
    "    self.mean_k = []\n",
    "    self.var_k = []\n",
    "\n",
    "\n",
    "  def fit(self, X, y):\n",
    "    self.labels = np.sort(np.unique(y))\n",
    "    for label in self.labels:\n",
    "      X_k = X[y == label]\n",
    "      self.var_k.append(np.var(X_k, axis=0)) \n",
    "      self.mean_k.append(np.mean(X_k, axis=0))\n",
    "\n",
    "  def predict(self, X):\n",
    "    y_labels_proba = []\n",
    "    for label in self.labels:\n",
    "      sum_central_squared_div = np.sum((X - self.mean_k[label])**2 / (self.var_k[label]))\n",
    "      sum_log_var = np.sum(np.log(2 * np.pi * self.var_k[label]))\n",
    "\n",
    "      y_labels_proba.append(self.log_proba - 1/2 * (sum_central_squared_div + sum_log_var))\n",
    "    return self.labels[np.argmax(y_labels_proba)]"
   ]
  },
  {
   "cell_type": "code",
   "execution_count": 95,
   "metadata": {},
   "outputs": [
    {
     "name": "stdout",
     "output_type": "stream",
     "text": [
      "\n",
      "accuracy: 0.9402882205513784 \n",
      "STD: 0.029513938654829035\n",
      "\n",
      "precision: 0.9452419037790556 \n",
      "STD: 0.0342043707877327\n",
      "\n",
      "recall: 0.9612265054490663 \n",
      "STD: 0.02463615693171122\n",
      "\n",
      "f1_score: 0.9527793651261949 \n",
      "STD: 0.022930485219644966\n"
     ]
    }
   ],
   "source": [
    "gnb = GNB()\n",
    "\n",
    "kf = KFold(n_splits=10, shuffle=True, random_state=101)\n",
    "kf.get_n_splits(X_breast)\n",
    "\n",
    "accuracy = []\n",
    "precision = []\n",
    "recall = []\n",
    "f1_score = []\n",
    "sum_matrix = [[0,0],[0,0]]\n",
    "for i, (train_index, test_index) in enumerate(kf.split(X_breast)):\n",
    "    y_pred = []\n",
    "    X_train_fold, X_test_fold = X_breast.iloc[train_index], X_breast.iloc[test_index]\n",
    "    y_train_fold, y_test_fold = y_breast.iloc[train_index], y_breast.iloc[test_index]\n",
    "\n",
    "    x_max = X_train_fold.max()\n",
    "    x_min = X_train_fold.min()\n",
    "    X_train_norm = (X_train_fold - x_min) / (x_max - x_min)\n",
    "    X_test_norm = (X_test_fold - x_min) / (x_max - x_min)\n",
    "    gnb.fit(X_train_norm, y_train_fold.values)\n",
    "    for x in X_test_norm.values:\n",
    "        y_pred.append(gnb.predict(x))\n",
    "    metric = Metrics(y_test_fold, y_pred)\n",
    "    \n",
    "\n",
    "    accuracy.append(metric.accuracy)\n",
    "    precision.append(metric.precision)\n",
    "    recall.append(metric.recall)\n",
    "    f1_score.append(metric.f1_score)\n",
    "    sum_matrix += metric.confusion_matrix\n",
    "\n",
    "print(\"\\naccuracy:\", np.mean(accuracy), \"\\nSTD:\", np.std(accuracy))\n",
    "print(\"\\nprecision:\", np.mean(precision), \"\\nSTD:\", np.std(precision))\n",
    "print(\"\\nrecall:\", np.mean(recall), \"\\nSTD:\", np.std(recall))\n",
    "print(\"\\nf1_score:\", np.mean(f1_score), \"\\nSTD:\", np.std(f1_score))"
   ]
  },
  {
   "cell_type": "code",
   "execution_count": 88,
   "metadata": {},
   "outputs": [
    {
     "data": {
      "image/png": "[encoded data removed]",
      "text/plain": [
       "<Figure size 640x480 with 2 Axes>"
      ]
     },
     "metadata": {},
     "output_type": "display_data"
    }
   ],
   "source": [
    "sns.heatmap(sum_matrix, annot=True, cmap='Blues', fmt='d',\n",
    "            xticklabels=['0', '1'], yticklabels=['0', '1'])\n",
    "plt.xlabel('y_pred')\n",
    "plt.ylabel('y_test')\n",
    "plt.title('Confusion Matrix')\n",
    "plt.show()"
   ]
  },
  {
   "cell_type": "markdown",
   "metadata": {},
   "source": [
    "## K Nearest Neighbor (KNN)"
   ]
  },
  {
   "cell_type": "code",
   "execution_count": 89,
   "metadata": {},
   "outputs": [],
   "source": [
    "class KNN():\n",
    "  def __init__(self, data, target):\n",
    "    self.data = data\n",
    "    self.target = target\n",
    "    return\n",
    "\n",
    "  def predict(self, x, k = 3):\n",
    "    distances = []\n",
    "    for i in range(len(self.data)):\n",
    "      distances.append(np.sqrt(np.sum((self.data[i] - x)**2)))\n",
    "\n",
    "    indices = np.argsort(distances)[:k]\n",
    "    neighbors = self.target[indices]\n",
    "    neighbors = np.sort(neighbors)\n",
    "    mode, _ = stats.mode(neighbors)\n",
    "    return mode"
   ]
  },
  {
   "cell_type": "code",
   "execution_count": 90,
   "metadata": {},
   "outputs": [
    {
     "name": "stdout",
     "output_type": "stream",
     "text": [
      "\n",
      "accuracy: 0.919235588972431 \n",
      "STD: 0.02730054204557919\n",
      "\n",
      "precision: 0.9277697712357533 \n",
      "STD: 0.029685924348102716\n",
      "\n",
      "recall: 0.9445873338098949 \n",
      "STD: 0.03711768345391915\n",
      "\n",
      "f1_score: 0.935521432884958 \n",
      "STD: 0.023946119159266463\n"
     ]
    }
   ],
   "source": [
    "kf = KFold(n_splits=10, shuffle=True, random_state=101)\n",
    "kf.get_n_splits(X_breast)\n",
    "\n",
    "accuracy = []\n",
    "precision = []\n",
    "recall = []\n",
    "f1_score = []\n",
    "sum_matrix = [[0,0],[0,0]]\n",
    "for i, (train_index, test_index) in enumerate(kf.split(X_breast)):\n",
    "    y_pred = []\n",
    "    X_train_fold, X_test_fold = X_breast.iloc[train_index], X_breast.iloc[test_index]\n",
    "    y_train_fold, y_test_fold = y_breast.iloc[train_index], y_breast.iloc[test_index]\n",
    "\n",
    "    knn = KNN(X_train_fold.values, y_train_fold.values)\n",
    "    for x in X_test_fold.values:\n",
    "        y_pred.append(knn.predict(x))\n",
    "    metric = Metrics(y_test_fold, y_pred)\n",
    "    \n",
    "\n",
    "    accuracy.append(metric.accuracy)\n",
    "    precision.append(metric.precision)\n",
    "    recall.append(metric.recall)\n",
    "    f1_score.append(metric.f1_score)\n",
    "    sum_matrix += metric.confusion_matrix\n",
    "\n",
    "print(\"\\naccuracy:\", np.mean(accuracy), \"\\nSTD:\", np.std(accuracy))\n",
    "print(\"\\nprecision:\", np.mean(precision), \"\\nSTD:\", np.std(precision))\n",
    "print(\"\\nrecall:\", np.mean(recall), \"\\nSTD:\", np.std(recall))\n",
    "print(\"\\nf1_score:\", np.mean(f1_score), \"\\nSTD:\", np.std(f1_score))"
   ]
  },
  {
   "cell_type": "code",
   "execution_count": 91,
   "metadata": {},
   "outputs": [
    {
     "data": {
      "image/png": "[encoded data removed]",
      "text/plain": [
       "<Figure size 640x480 with 2 Axes>"
      ]
     },
     "metadata": {},
     "output_type": "display_data"
    }
   ],
   "source": [
    "sns.heatmap(sum_matrix, annot=True, cmap='Blues', fmt='d',\n",
    "            xticklabels=['0', '1'], yticklabels=['0', '1'])\n",
    "plt.xlabel('y_pred')\n",
    "plt.ylabel('y_test')\n",
    "plt.title('Confusion Matrix')\n",
    "plt.show()"
   ]
  }
 ],
 "metadata": {
  "kernelspec": {
   "display_name": "env",
   "language": "python",
   "name": "python3"
  },
  "language_info": {
   "codemirror_mode": {
    "name": "ipython",
    "version": 3
   },
   "file_extension": ".py",
   "mimetype": "text/x-python",
   "name": "python",
   "nbconvert_exporter": "python",
   "pygments_lexer": "ipython3",
   "version": "3.12.4"
  }
 },
 "nbformat": 4,
 "nbformat_minor": 2
}
